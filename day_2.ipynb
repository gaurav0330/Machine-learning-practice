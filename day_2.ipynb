{
 "cells": [
  {
   "cell_type": "markdown",
   "id": "6b9e2ead-9cee-4020-b0cb-d1e3f24f7c65",
   "metadata": {},
   "source": [
    "### Study the use of metrics and scoring to quantify quality of a model's prediction and plot the graph"
   ]
  },
  {
   "cell_type": "markdown",
   "id": "0818f604-9b8a-4df7-929d-eab03fea3de5",
   "metadata": {},
   "source": [
    "Calculating MAE, MSE, RMSE, R2 Score"
   ]
  },
  {
   "cell_type": "code",
   "execution_count": 1,
   "id": "c1dc2392-bbe2-4d4f-a995-66a47885f69f",
   "metadata": {},
   "outputs": [],
   "source": [
    "from sklearn.metrics import mean_absolute_error, mean_squared_error, r2_score\n",
    "import numpy as np\n",
    "import math"
   ]
  },
  {
   "cell_type": "code",
   "execution_count": 2,
   "id": "d388a9fc-4a29-4b11-86b4-972469528350",
   "metadata": {},
   "outputs": [],
   "source": [
    "y_true = [3,-0.5,2,7]\n",
    "y_pred = [2.5, 0.0, 2, 8]"
   ]
  },
  {
   "cell_type": "code",
   "execution_count": 3,
   "id": "c672d157-76bb-4636-bacf-acc6d6e76556",
   "metadata": {},
   "outputs": [],
   "source": [
    "MAE = mean_absolute_error(y_true, y_pred)\n",
    "MSE = mean_squared_error(y_true, y_pred)\n",
    "RMSE = np.sqrt(MSE)\n",
    "R2_score = r2_score(y_true, y_pred)"
   ]
  },
  {
   "cell_type": "code",
   "execution_count": 4,
   "id": "28337984-1dcd-4e92-b6fa-d6d93a3f9522",
   "metadata": {},
   "outputs": [
    {
     "name": "stdout",
     "output_type": "stream",
     "text": [
      "MAE 0.5\n",
      "MSE 0.375\n",
      "RMSE 0.6123724356957945\n",
      "R2_score 0.9486081370449679\n"
     ]
    }
   ],
   "source": [
    "print(\"MAE\",MAE)\n",
    "print(\"MSE\",MSE)\n",
    "print(\"RMSE\",RMSE)\n",
    "print(\"R2_score\",R2_score)"
   ]
  },
  {
   "cell_type": "markdown",
   "id": "de149db4-cce1-4e5f-98dd-90b3940803ec",
   "metadata": {},
   "source": [
    "### Calculate based on the formulae "
   ]
  },
  {
   "cell_type": "code",
   "execution_count": 5,
   "id": "0fe4abfc-d8a6-4b54-b97c-950be7b61b35",
   "metadata": {},
   "outputs": [
    {
     "name": "stdout",
     "output_type": "stream",
     "text": [
      "MSE: 0.375\n",
      "MAE: 0.5\n",
      "RMSE: 0.6123724356957945\n",
      "R2_score: 0.9486081370449679\n"
     ]
    }
   ],
   "source": [
    "# Number of samples\n",
    "n = len(y_true)\n",
    "\n",
    "# Mean Squared Error (MSE)\n",
    "MSE = sum(pow((y_true[i] - y_pred[i]), 2) for i in range(n)) / n\n",
    "print(\"MSE:\", MSE)\n",
    "\n",
    "# Mean Absolute Error (MAE)\n",
    "MAE = sum(abs(y_true[i] - y_pred[i]) for i in range(n)) / n\n",
    "print(\"MAE:\", MAE)\n",
    "\n",
    "# Root Mean Squared Error (RMSE)\n",
    "RMSE = math.sqrt(MSE)\n",
    "print(\"RMSE:\", RMSE)\n",
    "\n",
    "# R-squared (R² Score)\n",
    "y_mean = sum(y_true) / n\n",
    "SS_total = sum(pow((y_true[i] - y_mean), 2) for i in range(n))\n",
    "SS_residual = sum(pow((y_true[i] - y_pred[i]), 2) for i in range(n))\n",
    "R2_score = 1 - (SS_residual / SS_total)\n",
    "print(\"R2_score:\", R2_score)"
   ]
  },
  {
   "cell_type": "code",
   "execution_count": 6,
   "id": "b9c1a417-a009-4b74-b3e5-469263e01469",
   "metadata": {},
   "outputs": [
    {
     "name": "stdout",
     "output_type": "stream",
     "text": [
      "Adj_R2_Score :  0.051391862955032064\n"
     ]
    }
   ],
   "source": [
    "Adj_R2_Score = 1 - R2_score\n",
    "print(\"Adj_R2_Score : \",Adj_R2_Score)"
   ]
  },
  {
   "cell_type": "markdown",
   "id": "3d473de5-f225-4399-959a-f8b2a540a431",
   "metadata": {},
   "source": [
    "### Graph Plotting"
   ]
  },
  {
   "cell_type": "code",
   "execution_count": 7,
   "id": "2a428f00-8189-4590-848f-1cf7edacaf5e",
   "metadata": {},
   "outputs": [],
   "source": [
    "import matplotlib.pyplot as plt\n",
    "import pandas as pd "
   ]
  },
  {
   "cell_type": "code",
   "execution_count": 8,
   "id": "52b7122b-c755-444a-90fc-3e2afefaf392",
   "metadata": {},
   "outputs": [
    {
     "data": {
      "text/plain": [
       "(34, 2)"
      ]
     },
     "execution_count": 8,
     "metadata": {},
     "output_type": "execute_result"
    }
   ],
   "source": [
    "df = pd.read_csv(\"country_dataset.csv\")\n",
    "df_new = df.iloc[:,1:3]\n",
    "df_new.shape"
   ]
  },
  {
   "cell_type": "code",
   "execution_count": 9,
   "id": "01ba15c8-734b-4c33-a831-ee403b7d479a",
   "metadata": {},
   "outputs": [
    {
     "data": {
      "text/plain": [
       "Text(0, 0.5, 'Salary')"
      ]
     },
     "execution_count": 9,
     "metadata": {},
     "output_type": "execute_result"
    },
    {
     "data": {
      "image/png": "[encoded data removed]",
      "text/plain": [
       "<Figure size 640x480 with 1 Axes>"
      ]
     },
     "metadata": {},
     "output_type": "display_data"
    }
   ],
   "source": [
    "plt.scatter(df_new['Age'], df_new['Salary'])\n",
    "plt.xlabel('Age')\n",
    "plt.ylabel('Salary')"
   ]
  },
  {
   "cell_type": "markdown",
   "id": "2065d05c-2288-4744-8e04-788cae7217ec",
   "metadata": {},
   "source": [
    "### Classification Binary classification"
   ]
  },
  {
   "cell_type": "markdown",
   "id": "eec87364-bbef-4fb6-9918-d10e6badc93f",
   "metadata": {},
   "source": [
    "### Calculating Accuracy, Precision, Recall and Confusion Matrix"
   ]
  },
  {
   "cell_type": "code",
   "execution_count": 10,
   "id": "21d37ace-81ad-4013-8f13-c0cd1136d29b",
   "metadata": {},
   "outputs": [],
   "source": [
    "from sklearn.metrics import confusion_matrix, accuracy_score, precision_score, recall_score\n"
   ]
  },
  {
   "cell_type": "code",
   "execution_count": 11,
   "id": "c7aaed77-9958-448f-8e53-8d02e5600153",
   "metadata": {},
   "outputs": [],
   "source": [
    "y_true = [0,0,0,0,0,0,0,0,0,0,1,1,1,1,1]\n",
    "y_pred = [0,0,0,0,0,0,0,0,1,1,1,1,1,1,0]"
   ]
  },
  {
   "cell_type": "code",
   "execution_count": 12,
   "id": "198d4f2d-cf38-444e-9e75-66390380493e",
   "metadata": {},
   "outputs": [
    {
     "name": "stdout",
     "output_type": "stream",
     "text": [
      "Acc 0.8\n",
      "precision 0.6666666666666666\n",
      "recall 0.8\n",
      "confusion_metric [[8 2]\n",
      " [1 4]]\n"
     ]
    }
   ],
   "source": [
    "Acc = accuracy_score(y_true, y_pred)\n",
    "precision = precision_score(y_true, y_pred)\n",
    "recall = recall_score(y_true, y_pred)\n",
    "confusion_metric = confusion_matrix(y_true, y_pred)\n",
    "print(\"Acc\",Acc)\n",
    "print(\"precision\",precision)\n",
    "print(\"recall\",recall)\n",
    "print(\"confusion_metric\",confusion_metric)"
   ]
  },
  {
   "cell_type": "code",
   "execution_count": 13,
   "id": "29e61ddb-fbf2-4beb-a0bb-06634396ce77",
   "metadata": {},
   "outputs": [
    {
     "data": {
      "text/plain": [
       "(np.int64(8), np.int64(2), np.int64(1), np.int64(4))"
      ]
     },
     "execution_count": 13,
     "metadata": {},
     "output_type": "execute_result"
    }
   ],
   "source": [
    "tn, fp, fn, tp = confusion_metric.ravel()\n",
    "tn, fp, fn, tp"
   ]
  },
  {
   "cell_type": "markdown",
   "id": "065a6c80-789a-4a9c-96c5-15b94a0bcab0",
   "metadata": {},
   "source": [
    "#### Multiple Classification : Calculating Accuracy, Precision, Recall, Confusion Matrix for multiple classification"
   ]
  },
  {
   "cell_type": "code",
   "execution_count": 14,
   "id": "2051fe6d-77ec-45b3-84c1-27f62755ed15",
   "metadata": {},
   "outputs": [
    {
     "name": "stdout",
     "output_type": "stream",
     "text": [
      "Acc 0.5833333333333334\n",
      "precision 0.5833333333333334\n",
      "recall 0.5833333333333334\n",
      "confusion_metric [[3 1 0]\n",
      " [1 2 1]\n",
      " [1 1 2]]\n"
     ]
    }
   ],
   "source": [
    "y_true = [1,1,1,1,2,2,2,2,3,3,3,3]\n",
    "y_pred = [2,1,1,1,1,3,2,2,1,2,3,3]\n",
    "Acc = accuracy_score(y_true, y_pred)\n",
    "precision = precision_score(y_true, y_pred, average = 'micro')\n",
    "confusion_metric = confusion_matrix(y_true, y_pred)\n",
    "recall = recall_score(y_true, y_pred, average = 'micro')\n",
    "\n",
    "print(\"Acc\",Acc)\n",
    "print(\"precision\",precision)\n",
    "print(\"recall\",recall)\n",
    "print(\"confusion_metric\",confusion_metric)"
   ]
  },
  {
   "cell_type": "markdown",
   "id": "90beb945-3bb9-4d72-aa1c-4639190dac21",
   "metadata": {},
   "source": [
    "#### Task 1 : Apply regression metric in given dataset with change in three package and plot the graph of the same"
   ]
  },
  {
   "cell_type": "code",
   "execution_count": 15,
   "id": "e4606230-6f2d-46c9-a2ff-2be76483c60d",
   "metadata": {},
   "outputs": [],
   "source": [
    "from sklearn.metrics import mean_absolute_error, mean_squared_error, r2_score\n",
    "import numpy as np"
   ]
  },
  {
   "cell_type": "code",
   "execution_count": 16,
   "id": "9ee3f981-3ca8-4fc9-af93-c49bb2ec482e",
   "metadata": {},
   "outputs": [
    {
     "data": {
      "text/plain": [
       "0.9554339072328756"
      ]
     },
     "execution_count": 16,
     "metadata": {},
     "output_type": "execute_result"
    }
   ],
   "source": [
    "y_true = [3.26, 1.98, 3.25, 3.67, 3.57]\n",
    "y_pred = [3.26, 2.03, 3, 3.8, 3.57]\n",
    "MAE = mean_absolute_error(y_true, y_pred)\n",
    "MSE = mean_squared_error(y_true, y_pred)\n",
    "RMSE = np.sqrt(MSE)\n",
    "R2_score = r2_score(y_true, y_pred)\n",
    "\n",
    "MAE\n",
    "MSE\n",
    "RMSE\n",
    "R2_score"
   ]
  },
  {
   "cell_type": "markdown",
   "id": "a402bead-ead1-46a0-ac1f-bda23e3fefe3",
   "metadata": {},
   "source": [
    "#### Plotting the graph for cgpa-package dataset"
   ]
  },
  {
   "cell_type": "code",
   "execution_count": 17,
   "id": "89b0e4e2-17f2-4203-8f31-d8f7bab545fa",
   "metadata": {},
   "outputs": [
    {
     "data": {
      "text/html": [
       "<div>\n",
       "<style scoped>\n",
       "    .dataframe tbody tr th:only-of-type {\n",
       "        vertical-align: middle;\n",
       "    }\n",
       "\n",
       "    .dataframe tbody tr th {\n",
       "        vertical-align: top;\n",
       "    }\n",
       "\n",
       "    .dataframe thead th {\n",
       "        text-align: right;\n",
       "    }\n",
       "</style>\n",
       "<table border=\"1\" class=\"dataframe\">\n",
       "  <thead>\n",
       "    <tr style=\"text-align: right;\">\n",
       "      <th></th>\n",
       "      <th>cgpa</th>\n",
       "      <th>package</th>\n",
       "    </tr>\n",
       "  </thead>\n",
       "  <tbody>\n",
       "    <tr>\n",
       "      <th>0</th>\n",
       "      <td>6.89</td>\n",
       "      <td>3.26</td>\n",
       "    </tr>\n",
       "    <tr>\n",
       "      <th>1</th>\n",
       "      <td>5.12</td>\n",
       "      <td>1.98</td>\n",
       "    </tr>\n",
       "    <tr>\n",
       "      <th>2</th>\n",
       "      <td>7.82</td>\n",
       "      <td>3.25</td>\n",
       "    </tr>\n",
       "    <tr>\n",
       "      <th>3</th>\n",
       "      <td>7.42</td>\n",
       "      <td>3.67</td>\n",
       "    </tr>\n",
       "    <tr>\n",
       "      <th>4</th>\n",
       "      <td>6.94</td>\n",
       "      <td>3.57</td>\n",
       "    </tr>\n",
       "  </tbody>\n",
       "</table>\n",
       "</div>"
      ],
      "text/plain": [
       "   cgpa  package\n",
       "0  6.89     3.26\n",
       "1  5.12     1.98\n",
       "2  7.82     3.25\n",
       "3  7.42     3.67\n",
       "4  6.94     3.57"
      ]
     },
     "execution_count": 17,
     "metadata": {},
     "output_type": "execute_result"
    }
   ],
   "source": [
    "import matplotlib.pyplot as plt\n",
    "import pandas as pd\n",
    "df = pd.read_csv('cgpa-dataset.csv')\n",
    "df"
   ]
  },
  {
   "cell_type": "code",
   "execution_count": 18,
   "id": "407fe8c7-d896-477e-ada7-347f3f3e50ab",
   "metadata": {},
   "outputs": [
    {
     "data": {
      "text/plain": [
       "(5, 2)"
      ]
     },
     "execution_count": 18,
     "metadata": {},
     "output_type": "execute_result"
    }
   ],
   "source": [
    "df_new = df.iloc[:,:]\n",
    "df.shape"
   ]
  },
  {
   "cell_type": "code",
   "execution_count": 19,
   "id": "32db5e31-274e-4652-85ce-428ec5571f6e",
   "metadata": {},
   "outputs": [
    {
     "name": "stdout",
     "output_type": "stream",
     "text": [
      "Index(['cgpa', 'package'], dtype='object')\n"
     ]
    }
   ],
   "source": [
    "print(df_new.columns)\n",
    "df_new.columns = df_new.columns.str.strip()  # Remove spaces"
   ]
  },
  {
   "cell_type": "code",
   "execution_count": 20,
   "id": "c3007819-820b-4099-9562-9133759f32af",
   "metadata": {},
   "outputs": [
    {
     "data": {
      "text/plain": [
       "Text(0, 0.5, 'package')"
      ]
     },
     "execution_count": 20,
     "metadata": {},
     "output_type": "execute_result"
    },
    {
     "data": {
      "image/png": "[encoded data removed]",
      "text/plain": [
       "<Figure size 640x480 with 1 Axes>"
      ]
     },
     "metadata": {},
     "output_type": "display_data"
    }
   ],
   "source": [
    "plt.scatter(df_new['cgpa'], df_new['package'])\n",
    "plt.xlabel('cgpa')\n",
    "plt.ylabel('package')"
   ]
  },
  {
   "cell_type": "markdown",
   "id": "17197018-50b6-4c2b-931f-d533fc7700bd",
   "metadata": {},
   "source": [
    "#### Task 2 : Take the 20 records from purchase attribute, change 5 value to prepare y-pred and apply the classification metrics on the same."
   ]
  },
  {
   "cell_type": "code",
   "execution_count": 21,
   "id": "ce272e8f-26ba-46de-8df0-8699158969cc",
   "metadata": {},
   "outputs": [],
   "source": [
    "from sklearn.metrics import confusion_matrix, accuracy_score, precision_score, recall_score\n",
    "import pandas as pd"
   ]
  },
  {
   "cell_type": "code",
   "execution_count": 22,
   "id": "45d73c59-70a4-475f-bd89-769fe51d682e",
   "metadata": {},
   "outputs": [
    {
     "data": {
      "text/plain": [
       "(20, 1)"
      ]
     },
     "execution_count": 22,
     "metadata": {},
     "output_type": "execute_result"
    }
   ],
   "source": [
    "df = pd.read_csv('country_dataset.csv')\n",
    "y = df['Purchase']\n",
    "y = df.iloc[0:20, -1] #e pandas Series into a NumPy array.\n",
    "y_true = y.values.reshape(20,1)\n",
    "y_true.shape"
   ]
  },
  {
   "cell_type": "code",
   "execution_count": 23,
   "id": "c096db04-ed2f-460e-84d9-2294e9c72e1f",
   "metadata": {},
   "outputs": [
    {
     "data": {
      "text/plain": [
       "array(['No', 'Yes', 'No', 'No', 'Yes', 'No', 'No', 'Yes', 'No', 'Yes',\n",
       "       'No', 'Yes', 'Yes', 'Yes', 'No', 'Yes', 'Yes', 'Yes', 'No', 'Yes'],\n",
       "      dtype=object)"
      ]
     },
     "execution_count": 23,
     "metadata": {},
     "output_type": "execute_result"
    }
   ],
   "source": [
    "y_true.ravel()"
   ]
  },
  {
   "cell_type": "code",
   "execution_count": 24,
   "id": "369caa7a-481c-43bc-8733-6fb0ba621fbe",
   "metadata": {},
   "outputs": [],
   "source": [
    "y_true = ['No', 'Yes', 'No', 'No', 'Yes', 'No', 'No', 'Yes', 'No', 'Yes','No', 'Yes', 'Yes', 'Yes', 'No', 'Yes', 'Yes', 'Yes', 'No', 'Yes']\n",
    "y_pred = ['No', 'Yes', 'Yes', 'No', 'No', 'No', 'Yes', 'Yes', 'No', 'Yes', 'No', 'Yes', 'Yes', 'Yes', 'No', 'Yes', 'Yes', 'Yes', 'Yes', 'No']"
   ]
  },
  {
   "cell_type": "markdown",
   "id": "ef961b49-9fc5-4574-a570-6316df6c6f5f",
   "metadata": {},
   "source": [
    "### evalute metrics "
   ]
  },
  {
   "cell_type": "code",
   "execution_count": 25,
   "id": "0a916396-318f-4250-9b7c-c380eea86ecc",
   "metadata": {},
   "outputs": [
    {
     "data": {
      "text/plain": [
       "0.75"
      ]
     },
     "execution_count": 25,
     "metadata": {},
     "output_type": "execute_result"
    }
   ],
   "source": [
    "Acc = accuracy_score(y_true, y_pred)\n",
    "Acc"
   ]
  },
  {
   "cell_type": "markdown",
   "id": "f067f1b8-29a1-472f-a846-fdd41ec20a20",
   "metadata": {},
   "source": [
    "##### To calculate Precision, Recall non-numeric (categorical) data must be converted into numeric values"
   ]
  },
  {
   "cell_type": "code",
   "execution_count": 26,
   "id": "2cb56ecc-cc07-486a-b502-1370d4ff905f",
   "metadata": {},
   "outputs": [],
   "source": [
    "# Convert lists to Pandas Series\n",
    "y_true = pd.Series(y_true)  \n",
    "y_pred = pd.Series(y_pred)\n",
    "y_true = y_true.map({'Yes': 1, 'No': 0})  # Apply map() function to convert Yes → 1 and No → 0\n",
    "y_pred = y_pred.map({'Yes': 1, 'No': 0})"
   ]
  },
  {
   "cell_type": "code",
   "execution_count": 27,
   "id": "6d7da10d-81e3-4aee-89ee-babc468189d2",
   "metadata": {},
   "outputs": [
    {
     "name": "stdout",
     "output_type": "stream",
     "text": [
      "precision 0.75\n",
      "recall 0.8181818181818182\n",
      "confusion_metric [[6 3]\n",
      " [2 9]]\n",
      "tn, fp, fn, tp 6 3 2 9\n"
     ]
    }
   ],
   "source": [
    "precision = precision_score(y_true, y_pred)  \n",
    "recall = recall_score(y_true, y_pred)\n",
    "confusion_metric = confusion_matrix(y_true, y_pred)\n",
    "tn, fp, fn, tp = confusion_metric.ravel()\n",
    "\n",
    "print(\"precision\",precision)\n",
    "print(\"recall\",recall)\n",
    "print(\"confusion_metric\",confusion_metric)\n",
    "print(\"tn, fp, fn, tp\",tn, fp, fn, tp)"
   ]
  },
  {
   "cell_type": "code",
   "execution_count": null,
   "id": "09ea85b0-9d66-4758-8e6f-15e3d089f7a6",
   "metadata": {},
   "outputs": [],
   "source": []
  }
 ],
 "metadata": {
  "kernelspec": {
   "display_name": "Python 3 (ipykernel)",
   "language": "python",
   "name": "python3"
  },
  "language_info": {
   "codemirror_mode": {
    "name": "ipython",
    "version": 3
   },
   "file_extension": ".py",
   "mimetype": "text/x-python",
   "name": "python",
   "nbconvert_exporter": "python",
   "pygments_lexer": "ipython3",
   "version": "3.13.2"
  }
 },
 "nbformat": 4,
 "nbformat_minor": 5
}
